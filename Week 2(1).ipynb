{
 "cells": [
  {
   "cell_type": "markdown",
   "metadata": {
    "collapsed": false
   },
   "source": [
    "---\n",
    "title: \"IS 620 WEB ANALYTICS - WEEK 2\\n|\n",
    "  \\ Data Analysis  \\n\"\n",
    "author: \"Author:MUSA T GANIYU\"\n",
    "output:\n",
    "  html_document:\n",
    "    highlight: tango\n",
    "    theme: cerulean\n",
    "    toc: yes\n",
    "    toc_depth: 2\n",
    "    toc_float:\n",
    "      collapsed: yes\n",
    "      number_sections: yes\n",
    "      smooth_scroll: no\n",
    "  pdf_document:\n",
    "    toc: yes\n",
    "    toc_depth: '2'\n",
    "---\n"
   ]
  },
  {
   "cell_type": "code",
   "execution_count": null,
   "metadata": {
    "collapsed": true
   },
   "outputs": [],
   "source": [
    "options(warn = -1)\n",
    "suppressMessages(library(ggraph))\n"
   ]
  },
  {
   "cell_type": "code",
   "execution_count": null,
   "metadata": {
    "collapsed": true
   },
   "outputs": [],
   "source": [
    "options(warn = -1)\n",
    "\n",
    "\n",
    "suppressMessages(library(igraph))\n",
    "suppressMessages(library(dplyr))\n",
    "suppressMessages(library(knitr))"
   ]
  },
  {
   "cell_type": "code",
   "execution_count": null,
   "metadata": {
    "collapsed": false
   },
   "outputs": [],
   "source": [
    "suppressPackageStartupMessages(require(dplyr))"
   ]
  },
  {
   "cell_type": "code",
   "execution_count": null,
   "metadata": {
    "collapsed": false
   },
   "outputs": [],
   "source": [
    "options(jupyter.plot_mimetypes = 'image/png')"
   ]
  },
  {
   "cell_type": "code",
   "execution_count": null,
   "metadata": {
    "collapsed": true
   },
   "outputs": [],
   "source": [
    "setwd(\"~/GitHub/MSDA-620\")"
   ]
  },
  {
   "cell_type": "code",
   "execution_count": null,
   "metadata": {
    "collapsed": false
   },
   "outputs": [],
   "source": [
    "g <- read_graph('polbooks.gml', format = \"gml\")\n"
   ]
  },
  {
   "cell_type": "code",
   "execution_count": null,
   "metadata": {
    "collapsed": false
   },
   "outputs": [],
   "source": [
    "suppressMessages(library(tidygraph))\n",
    "df <- as_tbl_graph(g)"
   ]
  },
  {
   "cell_type": "code",
   "execution_count": null,
   "metadata": {
    "collapsed": false
   },
   "outputs": [],
   "source": [
    "df"
   ]
  },
  {
   "cell_type": "code",
   "execution_count": null,
   "metadata": {
    "collapsed": false
   },
   "outputs": [],
   "source": [
    "df %>% activate(edges)"
   ]
  },
  {
   "cell_type": "code",
   "execution_count": null,
   "metadata": {
    "collapsed": false
   },
   "outputs": [],
   "source": [
    "kable(head(as_tibble(df)))"
   ]
  },
  {
   "cell_type": "code",
   "execution_count": null,
   "metadata": {
    "collapsed": false
   },
   "outputs": [],
   "source": [
    "E(df)\n",
    "\n",
    "V(df)"
   ]
  },
  {
   "cell_type": "code",
   "execution_count": null,
   "metadata": {
    "collapsed": false
   },
   "outputs": [],
   "source": [
    "bind_nodes(df)"
   ]
  },
  {
   "cell_type": "code",
   "execution_count": null,
   "metadata": {
    "collapsed": false
   },
   "outputs": [],
   "source": [
    "bind_edges(df)"
   ]
  },
  {
   "cell_type": "code",
   "execution_count": null,
   "metadata": {
    "collapsed": false
   },
   "outputs": [],
   "source": [
    "#plot(df)"
   ]
  },
  {
   "cell_type": "code",
   "execution_count": null,
   "metadata": {
    "collapsed": false
   },
   "outputs": [],
   "source": [
    "col <- c(\"brown\", \"blue\")\n",
    "\n",
    "plot(df, edge.arrow.size=.2, vertex.label.color=\"black\", vertex.label.dist=1.1,\n",
    "     vertex.color=c( \"brown\", \"blue\")[1+(V(df)$value==\"c\")],layout=layout_in_circle)\n",
    "legend(x=-1.1, y=-1.1, c(\"Label\",\"Value\"), pch=21,\n",
    "       col=\"#777777\", pt.bg=col, pt.cex=2.5, bty=\"n\", ncol=1)"
   ]
  },
  {
   "cell_type": "code",
   "execution_count": null,
   "metadata": {
    "collapsed": false
   },
   "outputs": [],
   "source": [
    "diameter(df, directed = TRUE, unconnected = FALSE, weights = NULL)"
   ]
  },
  {
   "cell_type": "code",
   "execution_count": null,
   "metadata": {
    "collapsed": false
   },
   "outputs": [],
   "source": [
    "df2 <- estimate_betweenness(df, vids = V(df), directed = TRUE, cutoff = 2, weights = NULL, nobigint = TRUE)\n",
    "\n",
    "\n",
    "hist(df2, breaks = \"Sturges\", main = paste(\"Histogram of Betweenness\"), col=\"brown\",\n",
    "     xlab = \"Betweeness\",\n",
    "     axes = TRUE, plot = TRUE, labels = FALSE)\n",
    "\n",
    "#betweenness(df, v = V(df), directed = TRUE, weights = NULL, nobigint = TRUE, normalized = FALSE)\n",
    "\n",
    "#edge_betweenness(df, e = E(df), directed = T, weights = NULL)\n"
   ]
  },
  {
   "cell_type": "code",
   "execution_count": null,
   "metadata": {
    "collapsed": false
   },
   "outputs": [],
   "source": [
    "shortest_paths(df, from =1, to = V(df), mode = c(\"out\", \"all\", \"in\"),\n",
    "  weights = NULL, output = c(\"vpath\", \"epath\", \"both\"),\n",
    "  predecessors = FALSE, inbound.edges = FALSE)\n",
    "\n",
    "\n",
    "#all_shortest_paths(graph, from, to = V(graph), mode = c(\"out\", \"all\", \"in\"),weights = NULL)\n"
   ]
  },
  {
   "cell_type": "code",
   "execution_count": 1,
   "metadata": {
    "collapsed": true
   },
   "outputs": [],
   "source": [
    "#options(jupyter.plot_mimetypes = 'image/png')"
   ]
  },
  {
   "cell_type": "code",
   "execution_count": null,
   "metadata": {
    "collapsed": true
   },
   "outputs": [],
   "source": []
  }
 ],
 "metadata": {
  "kernelspec": {
   "display_name": "R",
   "language": "R",
   "name": "ir"
  },
  "language_info": {
   "codemirror_mode": "r",
   "file_extension": ".r",
   "mimetype": "text/x-r-source",
   "name": "R",
   "pygments_lexer": "r",
   "version": "3.3.3"
  }
 },
 "nbformat": 4,
 "nbformat_minor": 0
}
